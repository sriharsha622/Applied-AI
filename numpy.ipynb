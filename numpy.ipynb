{
  "nbformat": 4,
  "nbformat_minor": 0,
  "metadata": {
    "colab": {
      "name": "numpy.ipynb",
      "provenance": [],
      "collapsed_sections": []
    },
    "kernelspec": {
      "name": "python3",
      "display_name": "Python 3"
    }
  },
  "cells": [
    {
      "cell_type": "code",
      "metadata": {
        "id": "V7TqCaQI5Jix",
        "colab": {
          "base_uri": "https://localhost:8080/",
          "height": 34
        },
        "outputId": "6fbca0dd-6ca0-46f3-97bc-eba572e5ea3c"
      },
      "source": [
        "ls"
      ],
      "execution_count": null,
      "outputs": [
        {
          "output_type": "stream",
          "text": [
            "\u001b[0m\u001b[01;34msample_data\u001b[0m/\n"
          ],
          "name": "stdout"
        }
      ]
    },
    {
      "cell_type": "code",
      "metadata": {
        "id": "5qw2NPGF5OPl",
        "colab": {
          "base_uri": "https://localhost:8080/",
          "height": 122
        },
        "outputId": "69503dbb-1bf2-4f0b-b530-e5298505d850"
      },
      "source": [
        "from google.colab import drive\n",
        "drive.mount('aiml')"
      ],
      "execution_count": null,
      "outputs": [
        {
          "output_type": "stream",
          "text": [
            "Go to this URL in a browser: https://accounts.google.com/o/oauth2/auth?client_id=947318989803-6bn6qk8qdgf4n4g3pfee6491hc0brc4i.apps.googleusercontent.com&redirect_uri=urn%3aietf%3awg%3aoauth%3a2.0%3aoob&response_type=code&scope=email%20https%3a%2f%2fwww.googleapis.com%2fauth%2fdocs.test%20https%3a%2f%2fwww.googleapis.com%2fauth%2fdrive%20https%3a%2f%2fwww.googleapis.com%2fauth%2fdrive.photos.readonly%20https%3a%2f%2fwww.googleapis.com%2fauth%2fpeopleapi.readonly\n",
            "\n",
            "Enter your authorization code:\n",
            "··········\n",
            "Mounted at aiml\n"
          ],
          "name": "stdout"
        }
      ]
    },
    {
      "cell_type": "code",
      "metadata": {
        "id": "fanB-FG_7w_S",
        "colab": {
          "base_uri": "https://localhost:8080/",
          "height": 34
        },
        "outputId": "2cc70403-f30a-4ad9-da51-107384e655b4"
      },
      "source": [
        "ls"
      ],
      "execution_count": null,
      "outputs": [
        {
          "output_type": "stream",
          "text": [
            "\u001b[0m\u001b[01;34maiml\u001b[0m/  \u001b[01;34msample_data\u001b[0m/\n"
          ],
          "name": "stdout"
        }
      ]
    },
    {
      "cell_type": "code",
      "metadata": {
        "id": "-TXBRoau7y5b",
        "colab": {
          "base_uri": "https://localhost:8080/",
          "height": 34
        },
        "outputId": "b7344762-0b7e-4870-cdeb-88eeac65d67b"
      },
      "source": [
        "pwd"
      ],
      "execution_count": null,
      "outputs": [
        {
          "output_type": "execute_result",
          "data": {
            "text/plain": [
              "'/content'"
            ]
          },
          "metadata": {
            "tags": []
          },
          "execution_count": 100
        }
      ]
    },
    {
      "cell_type": "code",
      "metadata": {
        "id": "ecen2OpR70QA",
        "colab": {
          "base_uri": "https://localhost:8080/",
          "height": 51
        },
        "outputId": "eddef6c5-de36-4e7b-f7dc-e92848cb8a23"
      },
      "source": [
        "cd/content/aiml/My Drive/Colab Notebooks"
      ],
      "execution_count": null,
      "outputs": [
        {
          "output_type": "stream",
          "text": [
            "[Errno 2] No such file or directory: '/content/aiml/My Drive/Colab Notebooks'\n",
            "/content\n"
          ],
          "name": "stdout"
        }
      ]
    },
    {
      "cell_type": "markdown",
      "metadata": {
        "id": "mBIYSl0YIsxl"
      },
      "source": [
        "#3*3 matrix ranging from 2 to 10 values"
      ]
    },
    {
      "cell_type": "markdown",
      "metadata": {
        "id": "5oPoC4wAbN_o"
      },
      "source": [
        ""
      ]
    },
    {
      "cell_type": "code",
      "metadata": {
        "id": "HOMIP6JuI8EA",
        "colab": {
          "base_uri": "https://localhost:8080/",
          "height": 68
        },
        "outputId": "982d65b2-7504-496c-8cee-a8415e1e6660"
      },
      "source": [
        "import numpy as np\n",
        "a = np.arange(2,11).reshape(3,3)\n",
        "print(a)"
      ],
      "execution_count": null,
      "outputs": [
        {
          "output_type": "stream",
          "text": [
            "[[ 2  3  4]\n",
            " [ 5  6  7]\n",
            " [ 8  9 10]]\n"
          ],
          "name": "stdout"
        }
      ]
    },
    {
      "cell_type": "markdown",
      "metadata": {
        "id": "E3oAe3cgJSz8"
      },
      "source": [
        "#2D arrray with 1 around corners and 0 inside "
      ]
    },
    {
      "cell_type": "code",
      "metadata": {
        "id": "yec8TB0jJ9Zm",
        "colab": {
          "base_uri": "https://localhost:8080/",
          "height": 187
        },
        "outputId": "3ec213f5-fbb8-436e-ecac-8ea6ec0c829f"
      },
      "source": [
        "import numpy as np\n",
        "A = np.ones((4,4))\n",
        "print('original array')\n",
        "print(A)\n",
        "print('with 1 corners and 0 inside')\n",
        "A[1:-1, 1:-1] = 0\n",
        "print(A)"
      ],
      "execution_count": null,
      "outputs": [
        {
          "output_type": "stream",
          "text": [
            "original array\n",
            "[[1. 1. 1. 1.]\n",
            " [1. 1. 1. 1.]\n",
            " [1. 1. 1. 1.]\n",
            " [1. 1. 1. 1.]]\n",
            "with 1 corners and 0 inside\n",
            "[[1. 1. 1. 1.]\n",
            " [1. 0. 0. 1.]\n",
            " [1. 0. 0. 1.]\n",
            " [1. 1. 1. 1.]]\n"
          ],
          "name": "stdout"
        }
      ]
    },
    {
      "cell_type": "markdown",
      "metadata": {
        "id": "dK4kgH_pR2bd"
      },
      "source": [
        "#using step on 8*8 matrix"
      ]
    },
    {
      "cell_type": "code",
      "metadata": {
        "id": "z-OLMK1uR_Hy",
        "colab": {
          "base_uri": "https://localhost:8080/",
          "height": 323
        },
        "outputId": "503ae5ea-b84f-447c-918b-fdc95f0b0851"
      },
      "source": [
        "import numpy as np\n",
        "A = np.zeros((8,8))\n",
        "print('original array')\n",
        "print(A)\n",
        "print('step on 8*8 matrix')\n",
        "A[1::2, ::2] = 1\n",
        "A[ ::2, 1::2] = 1\n",
        "print(A)"
      ],
      "execution_count": null,
      "outputs": [
        {
          "output_type": "stream",
          "text": [
            "original array\n",
            "[[0. 0. 0. 0. 0. 0. 0. 0.]\n",
            " [0. 0. 0. 0. 0. 0. 0. 0.]\n",
            " [0. 0. 0. 0. 0. 0. 0. 0.]\n",
            " [0. 0. 0. 0. 0. 0. 0. 0.]\n",
            " [0. 0. 0. 0. 0. 0. 0. 0.]\n",
            " [0. 0. 0. 0. 0. 0. 0. 0.]\n",
            " [0. 0. 0. 0. 0. 0. 0. 0.]\n",
            " [0. 0. 0. 0. 0. 0. 0. 0.]]\n",
            "step on 8*8 matrix\n",
            "[[0. 1. 0. 1. 0. 1. 0. 1.]\n",
            " [1. 0. 1. 0. 1. 0. 1. 0.]\n",
            " [0. 1. 0. 1. 0. 1. 0. 1.]\n",
            " [1. 0. 1. 0. 1. 0. 1. 0.]\n",
            " [0. 1. 0. 1. 0. 1. 0. 1.]\n",
            " [1. 0. 1. 0. 1. 0. 1. 0.]\n",
            " [0. 1. 0. 1. 0. 1. 0. 1.]\n",
            " [1. 0. 1. 0. 1. 0. 1. 0.]]\n"
          ],
          "name": "stdout"
        }
      ]
    },
    {
      "cell_type": "markdown",
      "metadata": {
        "id": "_SRKS7qw3EhX"
      },
      "source": [
        "#to extract first and second element of 4x4 matrix"
      ]
    },
    {
      "cell_type": "code",
      "metadata": {
        "id": "1DkfKfPp3zCY",
        "colab": {
          "base_uri": "https://localhost:8080/",
          "height": 136
        },
        "outputId": "c0e18c7f-662f-4d16-ceb6-233fc933370e"
      },
      "source": [
        "import numpy as np\n",
        "x = np.arange(0,16).reshape((4,4))\n",
        "print('original matrix')\n",
        "print(x)\n",
        "print('first and second element of 4x4', x[0:2,0:2])\n"
      ],
      "execution_count": null,
      "outputs": [
        {
          "output_type": "stream",
          "text": [
            "original matrix\n",
            "[[ 0  1  2  3]\n",
            " [ 4  5  6  7]\n",
            " [ 8  9 10 11]\n",
            " [12 13 14 15]]\n",
            "first and second element of 4x4 [[0 1]\n",
            " [4 5]]\n"
          ],
          "name": "stdout"
        }
      ]
    },
    {
      "cell_type": "markdown",
      "metadata": {
        "id": "nCgstaYt8MT1"
      },
      "source": [
        "#Determinent of array"
      ]
    },
    {
      "cell_type": "code",
      "metadata": {
        "id": "HVAVgkHv8ZzO",
        "colab": {
          "base_uri": "https://localhost:8080/",
          "height": 68
        },
        "outputId": "7cad3513-cf2e-4efa-ff15-9a5b3480c3e9"
      },
      "source": [
        "import numpy as np\n",
        "y = np.array([[1,2],[3,4]])\n",
        "print('matrix is', y)\n",
        "result = np.linalg.det(y)\n",
        "print('det of matrix y is', result)"
      ],
      "execution_count": null,
      "outputs": [
        {
          "output_type": "stream",
          "text": [
            "matrix is [[1 2]\n",
            " [3 4]]\n",
            "det of matrix y is -2.0000000000000004\n"
          ],
          "name": "stdout"
        }
      ]
    },
    {
      "cell_type": "markdown",
      "metadata": {
        "id": "d59_l-6yUvf7"
      },
      "source": [
        "#eigen values and eigen vectors of matrix"
      ]
    },
    {
      "cell_type": "code",
      "metadata": {
        "id": "NFHL38WzEbsa",
        "colab": {
          "base_uri": "https://localhost:8080/",
          "height": 119
        },
        "outputId": "9eff83fa-4dbe-4a3f-d587-b948c096a6f2"
      },
      "source": [
        "import numpy as np\n",
        "m = np.mat('3 -2; 1 0')\n",
        "print('original matrix :')\n",
        "print(m)\n",
        "w , v = np.linalg.eigvals(m)\n",
        "print('eigen values of matrix', w)\n",
        "print('eigen vectors of matrix', v)\n",
        "print(w,v)"
      ],
      "execution_count": null,
      "outputs": [
        {
          "output_type": "stream",
          "text": [
            "original matrix :\n",
            "[[ 3 -2]\n",
            " [ 1  0]]\n",
            "eigen values of matrix 2.0\n",
            "eigen vectors of matrix 1.0\n",
            "2.0 1.0\n"
          ],
          "name": "stdout"
        }
      ]
    },
    {
      "cell_type": "markdown",
      "metadata": {
        "id": "66Rpa9J3Ml8d"
      },
      "source": [
        "#To normalize 3x3 Random matrix"
      ]
    },
    {
      "cell_type": "code",
      "metadata": {
        "id": "vJoZNn8sNA0X",
        "colab": {
          "base_uri": "https://localhost:8080/",
          "height": 153
        },
        "outputId": "d613be30-669b-4a5b-f07e-20f5b4b33315"
      },
      "source": [
        "import numpy as np\n",
        "x = np.random.random((3,3))\n",
        "print('original matrix')\n",
        "print(x)\n",
        "xmax , xmin = x.max() , x.min()\n",
        "x = (x - xmin)/(xmax - xmin)\n",
        "print('normalization matrix')\n",
        "print(x)"
      ],
      "execution_count": null,
      "outputs": [
        {
          "output_type": "stream",
          "text": [
            "original matrix\n",
            "[[0.67216411 0.263023   0.09309086]\n",
            " [0.88214402 0.20820121 0.57858855]\n",
            " [0.43899529 0.21583217 0.45793765]]\n",
            "normalization matrix\n",
            "[[0.73388369 0.21536209 0.        ]\n",
            " [1.         0.14588414 0.61529148]\n",
            " [0.43837911 0.15555518 0.46238556]]\n"
          ],
          "name": "stdout"
        }
      ]
    },
    {
      "cell_type": "markdown",
      "metadata": {
        "id": "AlkhT7AzWBmQ"
      },
      "source": [
        "#To check whether the element start with 'p' or not ?"
      ]
    },
    {
      "cell_type": "code",
      "metadata": {
        "id": "NNcFfyIiMh3x",
        "colab": {
          "base_uri": "https://localhost:8080/",
          "height": 85
        },
        "outputId": "58ec39bd-8e04-45c7-f2b2-a7d583ecdfd3"
      },
      "source": [
        "import numpy as np\n",
        "x1 = np.array(['Python', 'PHP', 'Java', 'C++'], dtype = np.str)\n",
        "print('original array')\n",
        "print(x1)\n",
        "x2 = np.char.startswith(x1, \"P\")\n",
        "print('element that starts with p is true or false')\n",
        "print(x2)"
      ],
      "execution_count": null,
      "outputs": [
        {
          "output_type": "stream",
          "text": [
            "original array\n",
            "['Python' 'PHP' 'Java' 'C++']\n",
            "element that starts with p is true or false\n",
            "[ True  True False False]\n"
          ],
          "name": "stdout"
        }
      ]
    },
    {
      "cell_type": "markdown",
      "metadata": {
        "id": "IPGg8Rz5O3u8"
      },
      "source": [
        "#Replacing PHP with PYTHON "
      ]
    },
    {
      "cell_type": "code",
      "metadata": {
        "id": "wwvOrWE-PJNZ",
        "colab": {
          "base_uri": "https://localhost:8080/",
          "height": 85
        },
        "outputId": "092e21ef-0b22-4590-9c2f-d6e6e83267bf"
      },
      "source": [
        "import numpy as np \n",
        "n = np.array(['PHP', 'Java', 'C++'], dtype = np.str)\n",
        "print('original array')\n",
        "print(n)\n",
        "m = np.char.replace(n, 'PHP', 'PYHTON')\n",
        "print('replacing PHP with Python')\n",
        "print(m)"
      ],
      "execution_count": null,
      "outputs": [
        {
          "output_type": "stream",
          "text": [
            "original array\n",
            "['PHP' 'Java' 'C++']\n",
            "replacing PHP with Python\n",
            "['PYHTON' 'Java' 'C++']\n"
          ],
          "name": "stdout"
        }
      ]
    },
    {
      "cell_type": "markdown",
      "metadata": {
        "id": "uhOshkAyQDX2"
      },
      "source": [
        "#To get the date and time of yesterday today and tomorrow"
      ]
    },
    {
      "cell_type": "code",
      "metadata": {
        "id": "Jk3Nlc6NQOKs",
        "colab": {
          "base_uri": "https://localhost:8080/",
          "height": 68
        },
        "outputId": "6816e7fb-bd22-4015-c5c9-b4b15914a71b"
      },
      "source": [
        "import numpy as np\n",
        "yesterday = np.datetime64('today', 'D')\n",
        "print('yesterday:', yesterday)\n",
        "today = np.datetime64('today', 'D')\n",
        "print('Today:', today)\n",
        "tomorrow = np.datetime64('today', 'D')\n",
        "print('tomorrow', tomorrow)\n"
      ],
      "execution_count": null,
      "outputs": [
        {
          "output_type": "stream",
          "text": [
            "yesterday: 2020-06-14\n",
            "Today: 2020-06-14\n",
            "tomorrow 2020-06-14\n"
          ],
          "name": "stdout"
        }
      ]
    },
    {
      "cell_type": "markdown",
      "metadata": {
        "id": "6ICiXgXCS6MY"
      },
      "source": [
        "#Sort the elements of the given array"
      ]
    },
    {
      "cell_type": "code",
      "metadata": {
        "id": "e4uaTuSATBYF",
        "colab": {
          "base_uri": "https://localhost:8080/",
          "height": 51
        },
        "outputId": "7cbe15c2-cec2-47ba-8c3d-dc1d16762382"
      },
      "source": [
        "import numpy as np\n",
        "student_id = np.array([1024, 4300, 1023, 4500])\n",
        "print('without sorted', student_id)\n",
        "student_id1 = np.argsort(student_id)\n",
        "print('with sorted', student_id1)"
      ],
      "execution_count": null,
      "outputs": [
        {
          "output_type": "stream",
          "text": [
            "without sorted [1024 4300 1023 4500]\n",
            "with sorted [2 0 1 3]\n"
          ],
          "name": "stdout"
        }
      ]
    }
  ]
}