{
  "nbformat": 4,
  "nbformat_minor": 0,
  "metadata": {
    "colab": {
      "name": "Pandas.ipynb",
      "provenance": []
    },
    "kernelspec": {
      "name": "python3",
      "display_name": "Python 3"
    }
  },
  "cells": [
    {
      "cell_type": "code",
      "metadata": {
        "id": "94cHNuEwWffP",
        "colab": {
          "base_uri": "https://localhost:8080/",
          "height": 34
        },
        "outputId": "310ee7e0-e43b-434f-b207-00e770d9fcdf"
      },
      "source": [
        "ls"
      ],
      "execution_count": null,
      "outputs": [
        {
          "output_type": "stream",
          "text": [
            "\u001b[0m\u001b[01;34msample_data\u001b[0m/\n"
          ],
          "name": "stdout"
        }
      ]
    },
    {
      "cell_type": "code",
      "metadata": {
        "id": "eKq0n3jXW4ZA",
        "colab": {
          "base_uri": "https://localhost:8080/",
          "height": 122
        },
        "outputId": "c4772b09-3169-4a08-968b-77345ebedead"
      },
      "source": [
        "from google.colab import drive\n",
        "drive.mount('aiml')"
      ],
      "execution_count": null,
      "outputs": [
        {
          "output_type": "stream",
          "text": [
            "Go to this URL in a browser: https://accounts.google.com/o/oauth2/auth?client_id=947318989803-6bn6qk8qdgf4n4g3pfee6491hc0brc4i.apps.googleusercontent.com&redirect_uri=urn%3aietf%3awg%3aoauth%3a2.0%3aoob&response_type=code&scope=email%20https%3a%2f%2fwww.googleapis.com%2fauth%2fdocs.test%20https%3a%2f%2fwww.googleapis.com%2fauth%2fdrive%20https%3a%2f%2fwww.googleapis.com%2fauth%2fdrive.photos.readonly%20https%3a%2f%2fwww.googleapis.com%2fauth%2fpeopleapi.readonly\n",
            "\n",
            "Enter your authorization code:\n",
            "··········\n",
            "Mounted at aiml\n"
          ],
          "name": "stdout"
        }
      ]
    },
    {
      "cell_type": "code",
      "metadata": {
        "id": "L4XNbTnQ14vk",
        "colab": {
          "base_uri": "https://localhost:8080/",
          "height": 34
        },
        "outputId": "0c9bfdd3-020b-4b5c-f0df-40fcaf5a02bb"
      },
      "source": [
        "ls"
      ],
      "execution_count": null,
      "outputs": [
        {
          "output_type": "stream",
          "text": [
            "\u001b[0m\u001b[01;34maiml\u001b[0m/  \u001b[01;34msample_data\u001b[0m/\n"
          ],
          "name": "stdout"
        }
      ]
    },
    {
      "cell_type": "code",
      "metadata": {
        "id": "bh-svC5L17oj",
        "colab": {
          "base_uri": "https://localhost:8080/",
          "height": 34
        },
        "outputId": "bd09a5f4-eda7-4955-f307-4bbf6b5e7487"
      },
      "source": [
        "pwd"
      ],
      "execution_count": null,
      "outputs": [
        {
          "output_type": "execute_result",
          "data": {
            "text/plain": [
              "'/content'"
            ]
          },
          "metadata": {
            "tags": []
          },
          "execution_count": 7
        }
      ]
    },
    {
      "cell_type": "code",
      "metadata": {
        "id": "i4srS8Xj1-AN",
        "colab": {
          "base_uri": "https://localhost:8080/",
          "height": 34
        },
        "outputId": "09575bf1-ab5b-4d2a-e857-81ac88e46c60"
      },
      "source": [
        "cd/content/aiml/My Drive/Colab Notebooks"
      ],
      "execution_count": null,
      "outputs": [
        {
          "output_type": "stream",
          "text": [
            "/content/aiml/My Drive/Colab Notebooks\n"
          ],
          "name": "stdout"
        }
      ]
    },
    {
      "cell_type": "markdown",
      "metadata": {
        "id": "Oz7BJtoqX9iz"
      },
      "source": [
        "#1D array from series to list"
      ]
    },
    {
      "cell_type": "code",
      "metadata": {
        "id": "A3p8ZkYhYIFa",
        "colab": {
          "base_uri": "https://localhost:8080/",
          "height": 153
        },
        "outputId": "af34cf58-d894-4515-d228-0b4b0dff67e0"
      },
      "source": [
        "import pandas as pd\n",
        "ds = pd.Series([2, 4, 6, 8, 10])\n",
        "print('series type', ds)\n",
        "print(ds.to_list())\n",
        "print('to list')"
      ],
      "execution_count": null,
      "outputs": [
        {
          "output_type": "stream",
          "text": [
            "series type 0     2\n",
            "1     4\n",
            "2     6\n",
            "3     8\n",
            "4    10\n",
            "dtype: int64\n",
            "[2, 4, 6, 8, 10]\n",
            "to list\n"
          ],
          "name": "stdout"
        }
      ]
    },
    {
      "cell_type": "markdown",
      "metadata": {
        "id": "2oMKNP2IY6nz"
      },
      "source": [
        "#Change the data type of a given column or series"
      ]
    },
    {
      "cell_type": "code",
      "metadata": {
        "id": "rXLBK0BSajt0",
        "colab": {
          "base_uri": "https://localhost:8080/",
          "height": 255
        },
        "outputId": "b162fe39-3ad8-4330-ef5c-89aa78880486"
      },
      "source": [
        "import pandas as pd\n",
        "s1 = pd.Series([200, 100, 'python', 43.12, 300])\n",
        "print('original data type\\n', s1)\n",
        "s2 = pd.to_numeric(s1, errors = 'coerce')\n",
        "print('changed data type to numeric\\n', s2)"
      ],
      "execution_count": null,
      "outputs": [
        {
          "output_type": "stream",
          "text": [
            "original data type\n",
            " 0       200\n",
            "1       100\n",
            "2    python\n",
            "3     43.12\n",
            "4       300\n",
            "dtype: object\n",
            "changed data type to numeric\n",
            " 0    200.00\n",
            "1    100.00\n",
            "2       NaN\n",
            "3     43.12\n",
            "4    300.00\n",
            "dtype: float64\n"
          ],
          "name": "stdout"
        }
      ]
    },
    {
      "cell_type": "markdown",
      "metadata": {
        "id": "TlwVHmUPb7MP"
      },
      "source": [
        "#To convert series of lists to one series"
      ]
    },
    {
      "cell_type": "code",
      "metadata": {
        "id": "44W99BGUdBN5",
        "colab": {
          "base_uri": "https://localhost:8080/",
          "height": 221
        },
        "outputId": "bd1e656c-c5db-480e-9843-90f647ba422e"
      },
      "source": [
        "import pandas as pd\n",
        "s = pd.Series([['red', 'yellow', 'green'], ['blue'], ['pink']])\n",
        "print('original series of list\\n', s)\n",
        "s = s.apply(pd.Series).stack().reset_index(drop = True)\n",
        "print('converted list\\n', s)"
      ],
      "execution_count": null,
      "outputs": [
        {
          "output_type": "stream",
          "text": [
            "original series of list\n",
            " 0    [red, yellow, green]\n",
            "1                  [blue]\n",
            "2                  [pink]\n",
            "dtype: object\n",
            "converted list\n",
            " 0       red\n",
            "1    yellow\n",
            "2     green\n",
            "3      blue\n",
            "4      pink\n",
            "dtype: object\n"
          ],
          "name": "stdout"
        }
      ]
    },
    {
      "cell_type": "markdown",
      "metadata": {
        "id": "K40WObFnxqYb"
      },
      "source": [
        "#mean and standard deviation of data series"
      ]
    },
    {
      "cell_type": "code",
      "metadata": {
        "id": "yiU9PmAMx3e6",
        "colab": {
          "base_uri": "https://localhost:8080/",
          "height": 323
        },
        "outputId": "9ad8ff4f-00b6-4aac-9c67-ba4e20acec76"
      },
      "source": [
        "import pandas as pd\n",
        "s = pd.Series([1,2,3,3,4,5,6,7,8,9,5,3])\n",
        "print('original dataset\\n', s)\n",
        "print('mean of the data set:')\n",
        "print(s.mean())\n",
        "print(\"standard deviation\")\n",
        "print(s.std())"
      ],
      "execution_count": null,
      "outputs": [
        {
          "output_type": "stream",
          "text": [
            "original dataset\n",
            " 0     1\n",
            "1     2\n",
            "2     3\n",
            "3     3\n",
            "4     4\n",
            "5     5\n",
            "6     6\n",
            "7     7\n",
            "8     8\n",
            "9     9\n",
            "10    5\n",
            "11    3\n",
            "dtype: int64\n",
            "mean of the data set:\n",
            "4.666666666666667\n",
            "standard deviation\n",
            "2.4618298195866544\n"
          ],
          "name": "stdout"
        }
      ]
    },
    {
      "cell_type": "markdown",
      "metadata": {
        "id": "KEVSYKMz2ILk"
      },
      "source": [
        "#Given series not present in the anoter given series"
      ]
    },
    {
      "cell_type": "code",
      "metadata": {
        "id": "QKyjSFU02S6K",
        "colab": {
          "base_uri": "https://localhost:8080/",
          "height": 255
        },
        "outputId": "694e0de7-51ff-4656-dd1e-7f8ea7227b38"
      },
      "source": [
        "import pandas as pd\n",
        "sr1 = pd.Series([1, 2, 3, 4])\n",
        "sr2 = pd.Series([1, 2, 6, 7])\n",
        "print('original series\\n', sr1,  sr2)\n",
        "print('new series')\n",
        "result = sr1[~sr1.isin(sr2)]\n",
        "print(result)\n"
      ],
      "execution_count": null,
      "outputs": [
        {
          "output_type": "stream",
          "text": [
            "original series\n",
            " 0    1\n",
            "1    2\n",
            "2    3\n",
            "3    4\n",
            "dtype: int64 0    1\n",
            "1    2\n",
            "2    6\n",
            "3    7\n",
            "dtype: int64\n",
            "new series\n",
            "2    3\n",
            "3    4\n",
            "dtype: int64\n"
          ],
          "name": "stdout"
        }
      ]
    },
    {
      "cell_type": "markdown",
      "metadata": {
        "id": "drXBY_jJ3fhH"
      },
      "source": [
        "#To create data sample"
      ]
    },
    {
      "cell_type": "code",
      "metadata": {
        "id": "_FUeP_D655fm",
        "colab": {
          "base_uri": "https://localhost:8080/",
          "height": 119
        },
        "outputId": "0667a869-a4f4-4ea4-8716-4158dd572248"
      },
      "source": [
        "import pandas as pd\n",
        "import numpy as np\n",
        "exam_data = {'name':['rahul', 'vijay', 'naga', 'kiran', 'ravi'], 'score':[12.5, 9, 16.5, np.nan, 9], 'attempts': [1, 3, 2, 3, 2], 'qualify': ['yes', 'no', 'yes', 'no', 'no']}\n",
        "labels = ['a', 'b', 'c', 'd', 'e']\n",
        "df = pd.DataFrame(exam_data , index = labels)\n",
        "print(df)"
      ],
      "execution_count": null,
      "outputs": [
        {
          "output_type": "stream",
          "text": [
            "    name  score  attempts qualify\n",
            "a  rahul   12.5         1     yes\n",
            "b  vijay    9.0         3      no\n",
            "c   naga   16.5         2     yes\n",
            "d  kiran    NaN         3      no\n",
            "e   ravi    9.0         2      no\n"
          ],
          "name": "stdout"
        }
      ]
    },
    {
      "cell_type": "markdown",
      "metadata": {
        "id": "CSIU9cbo7C7N"
      },
      "source": [
        "#Specified columns and rows of given data"
      ]
    },
    {
      "cell_type": "code",
      "metadata": {
        "id": "YdaK6gy97Tdz",
        "colab": {
          "base_uri": "https://localhost:8080/",
          "height": 85
        },
        "outputId": "63840c6c-eba9-4867-fb3a-e347f167c8d0"
      },
      "source": [
        "print(df.iloc[[1, 2, 4], [0, 1]])"
      ],
      "execution_count": null,
      "outputs": [
        {
          "output_type": "stream",
          "text": [
            "    name  score\n",
            "b  vijay    9.0\n",
            "c   naga   16.5\n",
            "e   ravi    9.0\n"
          ],
          "name": "stdout"
        }
      ]
    },
    {
      "cell_type": "markdown",
      "metadata": {
        "id": "7GPZQKu-8THf"
      },
      "source": [
        "#To select score between 11 and 17"
      ]
    },
    {
      "cell_type": "code",
      "metadata": {
        "id": "eFj7XSII8mD4",
        "colab": {
          "base_uri": "https://localhost:8080/",
          "height": 68
        },
        "outputId": "d7e3c6aa-2001-492b-d4cb-c05f02468b35"
      },
      "source": [
        "print(df[df['score'].between(11, 17)])"
      ],
      "execution_count": null,
      "outputs": [
        {
          "output_type": "stream",
          "text": [
            "    name  score  attempts qualify\n",
            "a  rahul   12.5         1     yes\n",
            "c   naga   16.5         2     yes\n"
          ],
          "name": "stdout"
        }
      ]
    },
    {
      "cell_type": "markdown",
      "metadata": {
        "id": "ZCagOvh99HjF"
      },
      "source": [
        "#To sort DF name in descending order and then by score in ascending order"
      ]
    },
    {
      "cell_type": "code",
      "metadata": {
        "id": "j57Shr3c9n0q",
        "colab": {
          "base_uri": "https://localhost:8080/",
          "height": 119
        },
        "outputId": "8d7e07bc-02c4-452e-9a0b-60f6742586a4"
      },
      "source": [
        "result_sort = df.sort_values(by = ['name', 'score'], ascending=[False, True])\n",
        "print(result_sort)"
      ],
      "execution_count": null,
      "outputs": [
        {
          "output_type": "stream",
          "text": [
            "    name  score  attempts qualify\n",
            "b  vijay    9.0         3      no\n",
            "e   ravi    9.0         2      no\n",
            "a  rahul   12.5         1     yes\n",
            "c   naga   16.5         2     yes\n",
            "d  kiran    NaN         3      no\n"
          ],
          "name": "stdout"
        }
      ]
    }
  ]
}